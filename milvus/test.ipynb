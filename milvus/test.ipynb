{
 "cells": [
  {
   "cell_type": "code",
   "execution_count": null,
   "id": "8d6c49d3",
   "metadata": {
    "vscode": {
     "languageId": "plaintext"
    }
   },
   "outputs": [],
   "source": [
    "from sentence_transformers import SentenceTransformer\n",
    "\n",
    "model = SentenceTransformer(\"./your-model\")\n",
    "embedding = model.encode(chapter_text)\n",
    "\n",
    "sample = {\n",
    "  \"chapter_id\": \"ch03_assembly\",\n",
    "  \"text\": \"이 장에서는 조립 순서를 다룬다. 첫 번째 단계는...\",\n",
    "  \"image_urls\": [\n",
    "    \"https://internal.corp/images/ch03_step1.png\",\n",
    "    \"https://internal.corp/images/ch03_step2.png\"\n",
    "  ]\n",
    "}"
   ]
  },
  {
   "cell_type": "code",
   "execution_count": null,
   "id": "9e9328d5",
   "metadata": {
    "vscode": {
     "languageId": "plaintext"
    }
   },
   "outputs": [],
   "source": [
    "from pymilvus import FieldSchema, CollectionSchema, Collection, DataType\n",
    "\n",
    "fields = [\n",
    "    FieldSchema(name=\"chapter_id\", dtype=DataType.VARCHAR, is_primary=True, max_length=100),\n",
    "    FieldSchema(name=\"embedding\", dtype=DataType.FLOAT_VECTOR, dim=len(embedding)),\n",
    "    FieldSchema(name=\"text\", dtype=DataType.VARCHAR, max_length=2000),\n",
    "    FieldSchema(name=\"image_urls\", dtype=DataType.VARCHAR, max_length=1000)\n",
    "]\n",
    "\n",
    "schema = CollectionSchema(fields, description=\"Manual chapters with text and images\")\n",
    "collection = Collection(name=\"manual_chapters\", schema=schema)\n"
   ]
  },
  {
   "cell_type": "code",
   "execution_count": null,
   "id": "59570c0f",
   "metadata": {
    "vscode": {
     "languageId": "plaintext"
    }
   },
   "outputs": [],
   "source": [
    "query_embedding = model.encode(user_query)\n",
    "collection.load()\n",
    "\n",
    "results = collection.search(\n",
    "    data=[query_embedding],\n",
    "    anns_field=\"embedding\",\n",
    "    param={\"metric_type\": \"cosine\", \"params\": {\"nprobe\": 10}},\n",
    "    limit=3,\n",
    "    output_fields=[\"chapter_id\", \"text\", \"image_urls\"]\n",
    ")\n"
   ]
  }
 ],
 "metadata": {
  "language_info": {
   "name": "python"
  }
 },
 "nbformat": 4,
 "nbformat_minor": 5
}
